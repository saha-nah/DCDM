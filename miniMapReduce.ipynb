{
  "nbformat": 4,
  "nbformat_minor": 0,
  "metadata": {
    "colab": {
      "provenance": [],
      "include_colab_link": true
    },
    "kernelspec": {
      "name": "python3",
      "display_name": "Python 3"
    },
    "language_info": {
      "name": "python"
    }
  },
  "cells": [
    {
      "cell_type": "markdown",
      "metadata": {
        "id": "view-in-github",
        "colab_type": "text"
      },
      "source": [
        "<a href=\"https://colab.research.google.com/github/saha-nah/DCDM/blob/main/miniMapReduce.ipynb\" target=\"_parent\"><img src=\"https://colab.research.google.com/assets/colab-badge.svg\" alt=\"Open In Colab\"/></a>"
      ]
    },
    {
      "cell_type": "markdown",
      "source": [
        "# **MiniMapReduce**\n",
        "A non-parallel, non-scalable Map-Reduce implementation"
      ],
      "metadata": {
        "id": "U7N9XuEmaISi"
      }
    },
    {
      "cell_type": "code",
      "source": [
        "def groupByKey(data):\n",
        "    result = dict()\n",
        "    for key, value in data:\n",
        "        if key in result:\n",
        "            result[key].append(value)\n",
        "        else:\n",
        "            result[key] = [value]\n",
        "    return result\n",
        "        \n",
        "def reduceByKey(f, data):\n",
        "    key_values = groupByKey(data)\n",
        "    return map(lambda key: \n",
        "                   (key, reduce(f, key_values[key])), \n",
        "                       key_values)"
      ],
      "metadata": {
        "id": "rzMakpskgBVJ"
      },
      "execution_count": null,
      "outputs": []
    },
    {
      "cell_type": "markdown",
      "source": [
        "## **WORD COUNT USING MINI_MAPREDUCE**"
      ],
      "metadata": {
        "id": "8JENm7uNaZee"
      }
    },
    {
      "cell_type": "code",
      "source": [
        "data = map(lambda x: (x, 1), \"to be or not to be\".split())\n",
        "data\n",
        "groupByKey(data)"
      ],
      "metadata": {
        "colab": {
          "base_uri": "https://localhost:8080/"
        },
        "id": "gbEeN2IKamfp",
        "outputId": "7217ee79-3f8c-42ea-a234-0d496a23e45f"
      },
      "execution_count": null,
      "outputs": [
        {
          "output_type": "execute_result",
          "data": {
            "text/plain": [
              "{'to': [1, 1], 'be': [1, 1], 'or': [1], 'not': [1]}"
            ]
          },
          "metadata": {},
          "execution_count": 2
        }
      ]
    },
    {
      "cell_type": "code",
      "source": [
        "reduceByKey(lambda x, y: x + y, data)"
      ],
      "metadata": {
        "colab": {
          "base_uri": "https://localhost:8080/"
        },
        "id": "u4dpNOWUevtd",
        "outputId": "b4513195-050a-4c1d-f389-adf563eab648"
      },
      "execution_count": null,
      "outputs": [
        {
          "output_type": "execute_result",
          "data": {
            "text/plain": [
              "<map at 0x7f464e392880>"
            ]
          },
          "metadata": {},
          "execution_count": 3
        }
      ]
    },
    {
      "cell_type": "markdown",
      "source": [
        "# **Parallelising MiniMapReduce**\n",
        "\n",
        "*   We can easily turn our Map-Reduce implementation into a parallel, multi-threaded framework by using the my_map_multithreaded function we defined earlier.\n",
        "\n",
        "*   This will allow us to perform map-reduce computations that exploit parallel processing using multiple cores on a single computer.\n"
      ],
      "metadata": {
        "id": "MZPZkyraeylM"
      }
    },
    {
      "cell_type": "code",
      "source": [
        "def reduceByKey_multithreaded(f, data):\n",
        "    key_values = groupByKey(data)\n",
        "    return my_map_multithreaded(\n",
        "        lambda key: (key, reduce(f, key_values[key])), key_values.keys())"
      ],
      "metadata": {
        "id": "8XzP8ScNe8oi"
      },
      "execution_count": null,
      "outputs": []
    },
    {
      "cell_type": "code",
      "source": [
        "from threading import Thread\n",
        "\n",
        "def schedule_computation_threaded(f, result, data, threads, i):    \n",
        "    # Each function evaluation is scheduled on a different core.\n",
        "    def my_job(): \n",
        "        print (\"Processing data:\", data[i], \"... \")\n",
        "        result[i] = f(data[i])\n",
        "        print (\"Finished job #\", i)    \n",
        "        print (\"Result was\", result[i])       \n",
        "    threads[i] = Thread(target=my_job)\n",
        "    \n",
        "def my_map_multithreaded(f, data):\n",
        "    n = len(data)\n",
        "    result = [None] * n\n",
        "    threads = [None] * n\n",
        "    print (\"Scheduling jobs.. \")\n",
        "    for i in range(n):\n",
        "        schedule_computation_threaded(f, result, data, threads, i)\n",
        "    print (\"Starting jobs.. \")\n",
        "    for i in range(n):\n",
        "        threads[i].start()\n",
        "    print (\"Waiting for jobs to finish.. \")\n",
        "    for i in range(n):\n",
        "        threads[i].join()\n",
        "    print (\"All done.\")\n",
        "    return result"
      ],
      "metadata": {
        "id": "I3gLqwjYgo-j"
      },
      "execution_count": null,
      "outputs": []
    },
    {
      "cell_type": "code",
      "source": [
        "reduceByKey_multithreaded(lambda x, y: x + y, data)"
      ],
      "metadata": {
        "colab": {
          "base_uri": "https://localhost:8080/"
        },
        "id": "E7zj7dDFgTOJ",
        "outputId": "ca5a9fa5-d6d5-4fae-c691-00e0bf4f356a"
      },
      "execution_count": null,
      "outputs": [
        {
          "output_type": "stream",
          "name": "stdout",
          "text": [
            "Scheduling jobs.. \n",
            "Starting jobs.. \n",
            "Waiting for jobs to finish.. \n",
            "All done.\n"
          ]
        },
        {
          "output_type": "execute_result",
          "data": {
            "text/plain": [
              "[]"
            ]
          },
          "metadata": {},
          "execution_count": 6
        }
      ]
    },
    {
      "cell_type": "code",
      "source": [
        "my_map_multithreaded(lambda x: x*x, [1, 2, 3, 4, 5])"
      ],
      "metadata": {
        "colab": {
          "base_uri": "https://localhost:8080/"
        },
        "id": "MOzbmXBpgu7g",
        "outputId": "be04db45-37ff-4ebc-d07f-9e35641f996e"
      },
      "execution_count": null,
      "outputs": [
        {
          "output_type": "stream",
          "name": "stdout",
          "text": [
            "Scheduling jobs.. \n",
            "Starting jobs.. \n",
            "Processing data: 1 ... \n",
            "Finished job # 0\n",
            "Result was 1\n",
            "Processing data: 2 ... \n",
            "Finished job # 1\n",
            "Result was 4\n",
            "Processing data: 3 ... \n",
            "Finished job # 2\n",
            "Result was 9\n",
            "Processing data:Processing data: 5 ... \n",
            "Finished job # 4\n",
            "Result was 25\n",
            "Waiting for jobs to finish.. \n",
            " 4 ... \n",
            "Finished job # 3\n",
            "Result was 16\n",
            "All done.\n"
          ]
        },
        {
          "output_type": "execute_result",
          "data": {
            "text/plain": [
              "[1, 4, 9, 16, 25]"
            ]
          },
          "metadata": {},
          "execution_count": 7
        }
      ]
    },
    {
      "cell_type": "code",
      "source": [
        "from numpy.random import uniform\n",
        "from time import sleep\n",
        "\n",
        "def a_function_which_takes_a_long_time(x):\n",
        "    sleep(uniform(2, 10))  # Simulate some long computation\n",
        "    return x*x\n",
        "\n",
        "my_map_multithreaded(a_function_which_takes_a_long_time, [1, 2, 3, 4, 5])"
      ],
      "metadata": {
        "colab": {
          "base_uri": "https://localhost:8080/"
        },
        "id": "K_NEefywg7Zr",
        "outputId": "24850ce4-c7e1-47d1-9fbf-08cdd94ecffd"
      },
      "execution_count": null,
      "outputs": [
        {
          "output_type": "stream",
          "name": "stdout",
          "text": [
            "Scheduling jobs.. \n",
            "Starting jobs.. \n",
            "Processing data: 1 ... \n",
            "Processing data: 2 ... \n",
            "Processing data: 3 ... \n",
            "Processing data: Processing data: 5 ... \n",
            "Waiting for jobs to finish.. \n",
            "4 ... \n",
            "Finished job # 4\n",
            "Result was 25\n",
            "Finished job # 3\n",
            "Result was 16\n",
            "Finished job # 2\n",
            "Result was 9\n",
            "Finished job # 0\n",
            "Result was 1\n",
            "Finished job # 1\n",
            "Result was 4\n",
            "All done.\n"
          ]
        },
        {
          "output_type": "execute_result",
          "data": {
            "text/plain": [
              "[1, 4, 9, 16, 25]"
            ]
          },
          "metadata": {},
          "execution_count": 8
        }
      ]
    }
  ]
}